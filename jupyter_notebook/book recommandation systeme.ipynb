{
 "cells": [
  {
   "cell_type": "code",
   "execution_count": 20,
   "id": "535921a6",
   "metadata": {},
   "outputs": [],
   "source": [
    "import pandas as pd\n",
    "from sklearn.feature_extraction.text import TfidfVectorizer\n",
    "from sklearn.metrics.pairwise import linear_kernel\n",
    "import re"
   ]
  },
  {
   "cell_type": "code",
   "execution_count": 21,
   "id": "8b4c0d69",
   "metadata": {},
   "outputs": [],
   "source": [
    "# Load your dataset\n",
    "books = pd.read_csv('book1100k-1200k.csv')  # Replace with your dataset"
   ]
  },
  {
   "cell_type": "code",
   "execution_count": 22,
   "id": "e5e2d4bd",
   "metadata": {},
   "outputs": [],
   "source": [
    "books = books.drop(columns=[\n",
    "    'RatingDist5', \n",
    "    'RatingDist4', \n",
    "    'RatingDist3', \n",
    "    'RatingDist2', \n",
    "    'RatingDist1', \n",
    "    'RatingDistTotal', \n",
    "    'CountsOfReview', \n",
    "    'Language', \n",
    "    'Count of text reviews'\n",
    "])"
   ]
  },
  {
   "cell_type": "code",
   "execution_count": 23,
   "id": "5de02c4b",
   "metadata": {},
   "outputs": [
    {
     "data": {
      "text/plain": [
       "460812"
      ]
     },
     "execution_count": 23,
     "metadata": {},
     "output_type": "execute_result"
    }
   ],
   "source": [
    "books.size"
   ]
  },
  {
   "cell_type": "code",
   "execution_count": 24,
   "id": "c898172c",
   "metadata": {},
   "outputs": [],
   "source": [
    "def clean_html_tags(text):\n",
    "    if isinstance(text, str):\n",
    "        cleaned_text = re.sub(r'<br\\s*/?>', '\\n', text)\n",
    "        return cleaned_text.strip()  # Remove extra spaces and newlines\n",
    "    else:\n",
    "        return ''  # Handle non-string values"
   ]
  },
  {
   "cell_type": "code",
   "execution_count": 25,
   "id": "dfe4ba48",
   "metadata": {},
   "outputs": [],
   "source": [
    "# Clean HTML tags in descriptions\n",
    "books['Description'] = books['Description'].apply(clean_html_tags)\n",
    "# Drop rows where 'Description' is empty or consists only of whitespace\n",
    "books = books[books['Description'].str.strip().astype(bool)]\n"
   ]
  },
  {
   "cell_type": "code",
   "execution_count": 26,
   "id": "bfc14f1d",
   "metadata": {},
   "outputs": [
    {
     "data": {
      "text/plain": [
       "399124"
      ]
     },
     "execution_count": 26,
     "metadata": {},
     "output_type": "execute_result"
    }
   ],
   "source": [
    "books.size"
   ]
  },
  {
   "cell_type": "code",
   "execution_count": 27,
   "id": "e408161d",
   "metadata": {},
   "outputs": [],
   "source": [
    "# Combine relevant columns into a single 'features' column\n",
    "books['features'] = books['Name'] + ' ' + books['Description'] + ' ' + books['Publisher']"
   ]
  },
  {
   "cell_type": "code",
   "execution_count": 28,
   "id": "a5f1b5d5",
   "metadata": {},
   "outputs": [],
   "source": [
    "books = books.dropna(subset=['Name', 'Authors', 'PublishYear', 'Publisher','Description'])"
   ]
  },
  {
   "cell_type": "code",
   "execution_count": 29,
   "id": "9b88277d",
   "metadata": {},
   "outputs": [],
   "source": [
    "# Convert PublishYear to string for consistency in feature extraction\n",
    "books['PublishYear'] = books['PublishYear'].astype(str)"
   ]
  },
  {
   "cell_type": "code",
   "execution_count": 30,
   "id": "c7dd6dac",
   "metadata": {},
   "outputs": [],
   "source": [
    "# Initialize a TF-IDF Vectorizer for each searchable column\n",
    "tfidf_vectorizer_name = TfidfVectorizer(stop_words='english')\n",
    "tfidf_vectorizer_authors = TfidfVectorizer(stop_words='english')\n",
    "tfidf_vectorizer_publish_year = TfidfVectorizer(stop_words='english')\n",
    "tfidf_vectorizer_publisher = TfidfVectorizer(stop_words='english')"
   ]
  },
  {
   "cell_type": "code",
   "execution_count": 31,
   "id": "bed3b13b",
   "metadata": {},
   "outputs": [],
   "source": [
    "# Create separate TF-IDF matrices for each column\n",
    "tfidf_matrix_name = tfidf_vectorizer_name.fit_transform(books['Name'])\n",
    "tfidf_matrix_authors = tfidf_vectorizer_authors.fit_transform(books['Authors'])\n",
    "tfidf_matrix_publish_year = tfidf_vectorizer_publish_year.fit_transform(books['PublishYear'])\n",
    "tfidf_matrix_publisher = tfidf_vectorizer_publisher.fit_transform(books['Publisher'])\n"
   ]
  },
  {
   "cell_type": "code",
   "execution_count": null,
   "id": "eff85427",
   "metadata": {},
   "outputs": [],
   "source": []
  },
  {
   "cell_type": "code",
   "execution_count": null,
   "id": "bbb70fb2",
   "metadata": {},
   "outputs": [],
   "source": []
  },
  {
   "cell_type": "code",
   "execution_count": 35,
   "id": "2c74509a",
   "metadata": {},
   "outputs": [],
   "source": [
    "# Function to recommend books based on query parameters\n",
    "def recommend_books(query_params, top_n=5):\n",
    "    cosine_similarities = None\n",
    "    \n",
    "    # Check which query parameters are provided\n",
    "    if 'name' in query_params:\n",
    "        query_vector = tfidf_vectorizer_name.transform([query_params['name']])\n",
    "        cosine_similarities = linear_kernel(query_vector, tfidf_matrix_name).flatten()\n",
    "\n",
    "    if 'authors' in query_params:\n",
    "        query_vector = tfidf_vectorizer_authors.transform([query_params['authors']])\n",
    "        cosine_similarities_authors = linear_kernel(query_vector, tfidf_matrix_authors).flatten()\n",
    "        cosine_similarities = cosine_similarities_authors if cosine_similarities is None else cosine_similarities + cosine_similarities_authors\n",
    "\n",
    "    if 'publish_year' in query_params:\n",
    "        query_vector = tfidf_vectorizer_publish_year.transform([query_params['publish_year']])\n",
    "        cosine_similarities_year = linear_kernel(query_vector, tfidf_matrix_publish_year).flatten()\n",
    "        cosine_similarities = cosine_similarities_year if cosine_similarities is None else cosine_similarities + cosine_similarities_year\n",
    "\n",
    "    if 'publisher' in query_params:\n",
    "        query_vector = tfidf_vectorizer_publisher.transform([query_params['publisher']])\n",
    "        cosine_similarities_publisher = linear_kernel(query_vector, tfidf_matrix_publisher).flatten()\n",
    "        cosine_similarities = cosine_similarities_publisher if cosine_similarities is None else cosine_similarities + cosine_similarities_publisher\n",
    "\n",
    "    if cosine_similarities is None:\n",
    "        raise ValueError(\"At least one search criterion must be provided.\")\n",
    "    \n",
    "    # Get top N indices\n",
    "    top_indices = cosine_similarities.argsort()[-top_n:][::-1]\n",
    "    \n",
    "    # Retrieve the top books\n",
    "    top_books = books.iloc[top_indices]\n",
    "    \n",
    "    return top_books[['Name', 'Authors', 'PublishYear', 'Publisher', 'Description','Rating']]\n"
   ]
  },
  {
   "cell_type": "code",
   "execution_count": 36,
   "id": "f0cd7b8c",
   "metadata": {},
   "outputs": [
    {
     "data": {
      "text/html": [
       "<div>\n",
       "<style scoped>\n",
       "    .dataframe tbody tr th:only-of-type {\n",
       "        vertical-align: middle;\n",
       "    }\n",
       "\n",
       "    .dataframe tbody tr th {\n",
       "        vertical-align: top;\n",
       "    }\n",
       "\n",
       "    .dataframe thead th {\n",
       "        text-align: right;\n",
       "    }\n",
       "</style>\n",
       "<table border=\"1\" class=\"dataframe\">\n",
       "  <thead>\n",
       "    <tr style=\"text-align: right;\">\n",
       "      <th></th>\n",
       "      <th>Name</th>\n",
       "      <th>Authors</th>\n",
       "      <th>PublishYear</th>\n",
       "      <th>Publisher</th>\n",
       "      <th>Description</th>\n",
       "      <th>Rating</th>\n",
       "    </tr>\n",
       "  </thead>\n",
       "  <tbody>\n",
       "    <tr>\n",
       "      <th>27907</th>\n",
       "      <td>Harry Potter and the Goblet of Fire (Harry Pot...</td>\n",
       "      <td>J.K. Rowling</td>\n",
       "      <td>2000</td>\n",
       "      <td>Listening Library</td>\n",
       "      <td>Running time: 20 hrs., 30 mins. 12 cassettes\\n...</td>\n",
       "      <td>4.56</td>\n",
       "    </tr>\n",
       "    <tr>\n",
       "      <th>10839</th>\n",
       "      <td>Harry Potter i Zakon Feniksa (Harry Potter, #5)</td>\n",
       "      <td>J.K. Rowling</td>\n",
       "      <td>2004</td>\n",
       "      <td>Media Rodzina</td>\n",
       "      <td>Wobec śmiertelnego zagrożenia ze strony Lorda ...</td>\n",
       "      <td>4.50</td>\n",
       "    </tr>\n",
       "    <tr>\n",
       "      <th>11294</th>\n",
       "      <td>Harry Potter i Czara Ognia (Harry Potter, #4)</td>\n",
       "      <td>J.K. Rowling</td>\n",
       "      <td>2001</td>\n",
       "      <td>Media Rodzina</td>\n",
       "      <td>W tym roku w Szkole Magii i Czarodziejstwa Hog...</td>\n",
       "      <td>4.56</td>\n",
       "    </tr>\n",
       "    <tr>\n",
       "      <th>16210</th>\n",
       "      <td>Harry Potter à l'école des sorciers (Harry Pot...</td>\n",
       "      <td>J.K. Rowling</td>\n",
       "      <td>1999</td>\n",
       "      <td>Folio Junior</td>\n",
       "      <td>Le jour de ses 11 ans, Harry Potter, un orphel...</td>\n",
       "      <td>4.47</td>\n",
       "    </tr>\n",
       "    <tr>\n",
       "      <th>10057</th>\n",
       "      <td>Harry Potter et L'Ordre du Phenix (Harry Potte...</td>\n",
       "      <td>J.K. Rowling</td>\n",
       "      <td>2007</td>\n",
       "      <td>Gallimard Jeunesse</td>\n",
       "      <td>Harry is due to start his fifth year at Hogwar...</td>\n",
       "      <td>4.50</td>\n",
       "    </tr>\n",
       "  </tbody>\n",
       "</table>\n",
       "</div>"
      ],
      "text/plain": [
       "                                                    Name       Authors  \\\n",
       "27907  Harry Potter and the Goblet of Fire (Harry Pot...  J.K. Rowling   \n",
       "10839    Harry Potter i Zakon Feniksa (Harry Potter, #5)  J.K. Rowling   \n",
       "11294      Harry Potter i Czara Ognia (Harry Potter, #4)  J.K. Rowling   \n",
       "16210  Harry Potter à l'école des sorciers (Harry Pot...  J.K. Rowling   \n",
       "10057  Harry Potter et L'Ordre du Phenix (Harry Potte...  J.K. Rowling   \n",
       "\n",
       "      PublishYear           Publisher  \\\n",
       "27907        2000   Listening Library   \n",
       "10839        2004       Media Rodzina   \n",
       "11294        2001       Media Rodzina   \n",
       "16210        1999        Folio Junior   \n",
       "10057        2007  Gallimard Jeunesse   \n",
       "\n",
       "                                             Description  Rating  \n",
       "27907  Running time: 20 hrs., 30 mins. 12 cassettes\\n...    4.56  \n",
       "10839  Wobec śmiertelnego zagrożenia ze strony Lorda ...    4.50  \n",
       "11294  W tym roku w Szkole Magii i Czarodziejstwa Hog...    4.56  \n",
       "16210  Le jour de ses 11 ans, Harry Potter, un orphel...    4.47  \n",
       "10057  Harry is due to start his fifth year at Hogwar...    4.50  "
      ]
     },
     "execution_count": 36,
     "metadata": {},
     "output_type": "execute_result"
    }
   ],
   "source": [
    "# Example usage\n",
    "query_params = {\n",
    "    'name': 'Harry Potter',\n",
    "}\n",
    "recommended_books = recommend_books(query_params)\n",
    "recommended_books.head()"
   ]
  },
  {
   "cell_type": "code",
   "execution_count": 18,
   "id": "dc5e9d5b",
   "metadata": {},
   "outputs": [],
   "source": [
    "import pickle\n",
    "# Save the TF-IDF Vectorizers and DataFrame\n",
    "with open('../Web/flask_project/Books_sys/model/tfidf_vectorizer_name.pkl', 'wb') as f:\n",
    "    pickle.dump(tfidf_vectorizer_name, f)\n",
    "with open('../Web/flask_project/Books_sys/model/tfidf_vectorizer_authors.pkl', 'wb') as f:\n",
    "    pickle.dump(tfidf_vectorizer_authors, f)\n",
    "with open('../Web/flask_project/Books_sys/model/tfidf_vectorizer_publish_year.pkl', 'wb') as f:\n",
    "    pickle.dump(tfidf_vectorizer_publish_year, f)\n",
    "with open('../Web/flask_project/Books_sys/model/tfidf_vectorizer_publisher.pkl', 'wb') as f:\n",
    "    pickle.dump(tfidf_vectorizer_publisher, f)\n",
    "with open('../Web/flask_project/Books_sys/model/books_df.pkl', 'wb') as f:\n",
    "    pickle.dump(books, f)"
   ]
  },
  {
   "cell_type": "code",
   "execution_count": null,
   "id": "b3d9dbc2",
   "metadata": {},
   "outputs": [],
   "source": []
  }
 ],
 "metadata": {
  "kernelspec": {
   "display_name": "Python 3",
   "language": "python",
   "name": "python3"
  },
  "language_info": {
   "codemirror_mode": {
    "name": "ipython",
    "version": 3
   },
   "file_extension": ".py",
   "mimetype": "text/x-python",
   "name": "python",
   "nbconvert_exporter": "python",
   "pygments_lexer": "ipython3",
   "version": "3.7.7"
  }
 },
 "nbformat": 4,
 "nbformat_minor": 5
}
